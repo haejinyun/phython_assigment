{
 "cells": [
  {
   "cell_type": "markdown",
   "id": "6c3d4581",
   "metadata": {},
   "source": [
    "# 1번 문제         \n",
    "* 클래스와 모듈의 공통점과 차이점에 대해 설명하시오."
   ]
  },
  {
   "cell_type": "markdown",
   "id": "d06fe079",
   "metadata": {},
   "source": [
    "먼저 이 둘의 ***공통점***으로는 `용도에 맞게 구성한 객체 멤버들을 캡슐화 시킨 후 가져다 사용한다는 점`에서 공통점을 가지지만,그 사용성과 방법적인 부분에서 차이점을 가진다.\n",
    "               \n",
    ">***클래스***의 경우에는 사용자가 직접 객체를 선언하고, 객체 멤버를 구성하여 사용한다. 이는 사용자-정의타입을 작성하여 능력을 부여한다. 또한 다른 객체에서 해당 클래스의 내부 멤버를 세부 용도에 맞게 변경하여 사용이 가능하다.                \n",
    "          \n",
    ">***모듈***의 경우에는 다른 사람이나 단체에서 만들어 놓은 즉 이미 완성되어 있는 것을 사용자가 가지고 와 그 모듈 객체와 객체 멤버를 끌어와 쓰는 것이다.        \n",
    "여기서 클래스와 다른 점이 있는데 `모듈은 다른 객체에서 해당 모듈의내부 멤버를 변경하여 사용하지 못한다는 것이다.`"
   ]
  },
  {
   "cell_type": "markdown",
   "id": "190171e2",
   "metadata": {},
   "source": [
    "# 2번 문제           \n",
    "* 다형성에 대해 설명하고 다형성을 보여주는 자신만의 파이썬 코드 예제를 제시하시오."
   ]
  },
  {
   "cell_type": "code",
   "execution_count": 3,
   "id": "bbc9caf0",
   "metadata": {},
   "outputs": [
    {
     "name": "stdout",
     "output_type": "stream",
     "text": [
      "Name: 뉴비, Item_Level: 550, Job: Warlord\n",
      "Name: 고인물, Item_Level: 1540, Job: Blaster, Awakening: Heavy Turret\n"
     ]
    }
   ],
   "source": [
    "# 다형성에 대해 설명\n",
    "\n",
    "class Former_1:\n",
    "    def __init__(self, name, Item_Level, job):\n",
    "        self.name, self.Item_Level, self.job = name, Item_Level, job\n",
    "\n",
    "    def printInfo(self):\n",
    "        print(\"Name: {0}, Item_Level: {1}, Job: {2}\".format(self.name, self.Item_Level, self.job))\n",
    "\n",
    "\n",
    "class Former_2(Former_1):  # Former_1을 상속받음/ 부모 클래스: Former_1, 자식 클래스:Former_2\n",
    "    def __init__(self, name, Item_Level, job, awakening):\n",
    "        Former_1.__init__(self, name, Item_Level, job)  # 부모 클래스 생성자 호출해 멤버변수 초기화 함\n",
    "        self.awakening = awakening\n",
    "\n",
    "    def printInfo(self):  # 부모 클래스의 매소드인데 자식 클래스에서 재정의(override)함. 이것이 다형성의 한 예시\n",
    "        print(\"Name: {0}, Item_Level: {1}, Job: {2}, Awakening: {3}\".format(self.name, self.Item_Level, self.job, self.awakening))\n",
    "\n",
    "\n",
    "LostArk1 = Former_1(\"뉴비\",\"550\", \"Warlord\")\n",
    "LostArk2 = Former_2(\"고인물\",\"1540\", \"Blaster\", \"Heavy Turret\")\n",
    "\n",
    "LostArk1.printInfo()\n",
    "LostArk2.printInfo()\n"
   ]
  },
  {
   "cell_type": "markdown",
   "id": "a79b5d36",
   "metadata": {},
   "source": [
    "* ***다형성***\n",
    "> - 같은 형태와 모양을 띈 코드가 다른 동작을 하는 것, 오버라이드같은 경우도 다형성중 하나이다.(상속받은 메소드의 내용을 재정의하기)\n",
    "> - 다형성을 사용하면 중복되는 코드의 양을 줄일수 있음\n",
    "> - 여러 객체 타입을 하나의 타입으로 관리가 가능해 유지보수가 좋다.   \n",
    "\n",
    "***오버라이딩***을 사용해 다형성의 예를 들었다.     \n",
    "***Former_1이라는 부모 클래스***를 가지고 ***Former_2라는 자식 클래스***를 만들었다.    \n",
    "`printInfo`를 자식 클래스에서 ***override 즉 재정의*** 하였다. "
   ]
  },
  {
   "cell_type": "markdown",
   "id": "24ef2c5f",
   "metadata": {},
   "source": [
    "# 3번 문제"
   ]
  },
  {
   "cell_type": "code",
   "execution_count": 4,
   "id": "d084f157",
   "metadata": {},
   "outputs": [
    {
     "name": "stdout",
     "output_type": "stream",
     "text": [
      "[Count (step: 1)]10\n",
      "[Count (step: 2)]10\n",
      "\n",
      "[Count (step: 1)]11\n",
      "[Count (step: 2)]12\n",
      "\n",
      "[Count (step: 1)]12\n",
      "[Count (step: 2)]14\n",
      "\n",
      "[Count (step: 1)]17\n",
      "[Count (step: 2)]9\n",
      "\n",
      "True\n",
      "False\n",
      "False\n",
      "True\n",
      "True\n",
      "False\n"
     ]
    }
   ],
   "source": [
    "class Counter:\n",
    "    def __init__(self, count, step=1):\n",
    "        self.count, self.step = count, step\n",
    "\n",
    "    def __str__(self):\n",
    "        return \"[Count (step: {0})]{1}\".format(self.step, self.count)\n",
    "\n",
    "    def incr(self):\n",
    "        self.count = self.count + self.step\n",
    "        return self\n",
    "\n",
    "    def __call__(self):\n",
    "        self.incr()\n",
    "\n",
    "    def __add__(self, other):\n",
    "        self.count += other\n",
    "        return self\n",
    "\n",
    "    def __sub__(self, other):\n",
    "        self.count -= other\n",
    "        return self\n",
    "\n",
    "    def __gt__(self, other):\n",
    "        return self.count > other\n",
    "\n",
    "    def __lt__(self, other):\n",
    "        return self.count < other\n",
    "\n",
    "    def __eq__(self, other):\n",
    "        return self.count == other\n",
    "\n",
    "    def __neq__(self, other):\n",
    "        return self.count != other\n",
    "\n",
    "\n",
    "c = Counter(10)  # 요구사항 1\n",
    "d = Counter(10, 2)\n",
    "\n",
    "print(c)  # 요구사항2\n",
    "print(d)\n",
    "print()\n",
    "\n",
    "c.incr()  # 요구사항3\n",
    "d.incr()\n",
    "print(c)\n",
    "print(d)\n",
    "print()\n",
    "\n",
    "c()  # 요구사항4\n",
    "d()\n",
    "print(c)\n",
    "print(d)\n",
    "print()\n",
    "\n",
    "c = c + 5  # 요구사항5\n",
    "d = d - 5\n",
    "print(c)\n",
    "print(d)\n",
    "print()\n",
    "\n",
    "print(c > 10)  # 요구사항6\n",
    "print(d > 10)\n",
    "print(c < 10)\n",
    "print(d < 10)\n",
    "print(c == 17)\n",
    "print(d != 9)\n"
   ]
  },
  {
   "cell_type": "markdown",
   "id": "773c1456",
   "metadata": {},
   "source": [
    "`__init__()`를 사용해 객체를 초기화 한다.        \n",
    "만약 2번째 매개변수 step을 입력하지 않았을 경우에는 default로 정해놓은 ***1***로 한다.         \n",
    "\n",
    "`__str__()`을 사용해 인스턴스 자체를 출력할때 형식을 지정한다.         \n",
    "format을 사용해서 지정한 형식에 맞게 출력하게 한다.            \n",
    "\n",
    ">요구사항 1\n",
    ">>* `__init__()`를 사용해 c와 d객체를 만든다.\n",
    "\n",
    ">요구사항2\n",
    ">>* `__str__()`을 사용해 인스턴스 자체를 출력시킨다.\n",
    "\n",
    ">요구사항3\n",
    ">>* `__incr__`라는 매소드를 추가해 self.count에 self.step을 더한 값으로 정의한다. 이후 `return self`를 통해 `__str__()`으로 지정한 형식에 맞게 출력한다.\n",
    "\n",
    ">요구사항4\n",
    ">>* 인스턴스 객체를 직접 호출할 수 있는 `__call__(self)`를 활용해 self.incr()로 내부적으로 incr()를 호출해 객체를 호출하면 자체적으로 incr()메소드를 호출하게 한다.\n",
    "\n",
    ">요구사항5\n",
    ">>* 매직 매소드 `__add__()`와 `__sub__()`를 사용해 덧셈과 뺄셈을 구현했다. 그리고 `return self`를 통해 `__str__()`으로 지정한 형식에 맞게 출력한다.\n",
    "\n",
    ">요구사항6\n",
    ">>* 이 또한 매직 매소드를 이용한다.             \n",
    ">>매직메소드와 메소드를 이용해 ***self.count***와 ***other(비교할 값)*** 을 비교한다.  \n",
    ">>>* `__gt__()`(self.count>other)               \n",
    ">>>*`__lt__()`(self.count<other)                 \n",
    ">>>*`__eq__()`(self.count==other)   \n",
    ">>>*`__neq__()`를 정의해 !=일 경우를 추가적으로 연산할 메소드를 정의했다.         \n",
    " "
   ]
  },
  {
   "cell_type": "markdown",
   "id": "47510752",
   "metadata": {},
   "source": [
    "# 4번 문제"
   ]
  },
  {
   "cell_type": "markdown",
   "id": "3af08f3b",
   "metadata": {},
   "source": [
    "__init__()메소드는 파이썬의 특수 메소드로 객체를 초기화 할시에 사용한다.\n",
    "이 메소드의 첫번재 매개변수는 self로 하며 이는 예약어가 아닌 관용적으로 사용하는 것이다.\n",
    "self는 객체 자기 자신을 가르키는 인자이다.\n",
    "Myset에서 사용된 __init__()의 역할로는 입력받은 리스트 l을 for문을 통해 요소 하나하나를 객체 자신에게 append\n",
    "시키는 것이다. 그리고 self를 매개변수로 정적 메소드 elimicate_duplicate(self)를 사용해 인스턴스 없이 클래스에서 바로 \n",
    "호출한다.\n",
    "\n",
    "elimicate_duplicate() 메소드는 정적 메소드이다.\n",
    "정적 메소드는 인스턴스를 사용하지 않고 클래스에서 바로 호출 가능하다는 특징이 있다.\n",
    "그래서 위 __inti__()메소드에서 인스턴스를 사용하지 않고 MySet.eliminate_duplicate(self)로 사용이 가능했던것이다.\n",
    "그러나 이는 인스턴스의 속성에는 접근을 할 수 없다. 고로 인스턴스의 상태를 변화시키지 않을 경우에 정적 메소드를 이용한다.\n",
    "elimicaste_duplicate()메소드의 역할은 입력받은 리스트 self(__init__()에서 처리 됨)를 for문을 통해 매개변수 리스트의 요소들이 새로운 \n",
    "리스트인 s에 있는지 확인하고, 없다면리스트 s에 append시킨다. \n",
    "그리고 기존의 매개변수로 받은 리스트를 빈 리스트로 만든 뒤 중복 요소를 제거한 리스트 s에 있던 요소값들을 \n",
    "매개변수로 받은 리스트에도 하나씩 append해준다.\n",
    "다시말해 elimicate_duplicate() 메소드는 새로운 s라는 리스트를 이용해 매개변수로 입력받은 리스트를 set정렬해주는 메소드이다.  \n",
    "\n",
    "__str__()메소드는 인스턴스 자체를 출력할때 형식을 지정하는 메소드이다.\n",
    "Myset안에서의 __str__()의 역할은 result라는 변수에 문자열을 초기화 시키고, __init__()에서 넘겨받은 self\n",
    "를 for문을 통해 요소들을 문자열로 형변환 시켜 result 변수에 더한다.\n",
    "그리고 for문을 다 처리한 뒤의 result를 뒤에서 두개(공백하나와 ','하나)를 지우고 '}'를 넣어 완성한다.\n",
    "그리고 완성된 result를 리턴한다.\n"
   ]
  },
  {
   "cell_type": "markdown",
   "id": "641556d1",
   "metadata": {},
   "source": [
    "# 5번 문제"
   ]
  },
  {
   "cell_type": "code",
   "execution_count": 8,
   "id": "fd3a2bba",
   "metadata": {},
   "outputs": [
    {
     "name": "stdout",
     "output_type": "stream",
     "text": [
      "MySet: {1 ,2 ,3}\n",
      "MySet: {2 ,3 ,4 ,5 ,6 ,7 ,8 ,9}\n",
      "MySet: {1 ,2 ,3 ,4 ,5 ,6 ,7 ,8 ,9}\n",
      "MySet: {2 ,3}\n",
      "MySet: {1 ,2}\n"
     ]
    }
   ],
   "source": [
    "class MySet(list):\n",
    "    def __init__(self, l):\n",
    "        for e in l:\n",
    "            self.append(e)\n",
    "        MySet.eliminate_duplicate(self)\n",
    "\n",
    "    def __str__(self):\n",
    "        result = \"MySet: {\"\n",
    "        for e in self:\n",
    "            result = result + str(e) + \" ,\"\n",
    "            # 매개변수로 받은 리스트의 요소들을 문자로 형변환을 시켜 result라는 문자열에 추가 시킨다 \" ,\"와 함ㄲㅔ\n",
    "        result = result[0:len(result) - 2] + \"}\"  # 이거는 마지막의\" ,\"를 지우고 닫는 꺽쇠를 더해주는 코드\n",
    "        return result\n",
    "\n",
    "    def __or__(self, other):\n",
    "\n",
    "        return self\n",
    "\n",
    "    @staticmethod\n",
    "    def eliminate_duplicate(l):\n",
    "        s = []\n",
    "        for e in l:\n",
    "            if e not in s:\n",
    "                s.append(e)\n",
    "        l[:] = []  # 빈 리스트로 만들어줌.\n",
    "        for e in s:  # 잘 정리된 리스트s에 담겨있던걸 l에도 담아줌.\n",
    "            l.append(e)\n",
    "\n",
    "    def __or__(self, l):  # 요구사항1. set집합을 사용하여 합집합 =|연산자를 재정의하였다.\n",
    "        self = set(self)\n",
    "        l = set(l)\n",
    "        self = self | l\n",
    "        result = \"MySet: {\"\n",
    "        for e in self:\n",
    "            result = result + str(e) + \" ,\"\n",
    "        result = result[0:len(result) - 2] + \"}\"\n",
    "        return result\n",
    "\n",
    "    def __and__(self, l):  # 요구사항2. set집합을 사용하여 교집합 =&연산자를 재정의하였다.\n",
    "        self = set(self)\n",
    "        l = set(l)\n",
    "        self = self & l\n",
    "        result = \"MySet: {\"\n",
    "        for e in self:\n",
    "            result = result + str(e) + \" ,\"\n",
    "        result = result[0:len(result) - 2] + \"}\"\n",
    "        return result\n",
    "\n",
    "    def __sub__(self, l):  # 요구사항3. set집합을 사용하여 차집합 =-연산자를 재정의하였다.\n",
    "        self = set(self)\n",
    "        l = set(l)\n",
    "        self = self - l\n",
    "        result = \"MySet: {\"\n",
    "        for e in self:\n",
    "            result = result + str(e) + \" ,\"\n",
    "        result = result[0:len(result) - 2] + \"}\"\n",
    "        return result\n",
    "\n",
    "\n",
    "if __name__ == \"__main__\":\n",
    "    s = MySet([1, 2, 2, 3])  # s객체 생성\n",
    "    print(s)\n",
    "    t = MySet([2, 3, 4, 5, 6, 7, 8, 8, 8, 8, 8, 9])  # t객체 생성\n",
    "    print(t)\n",
    "    u = s | t  # __or__(self,l)가 실행된다\n",
    "    print(u)\n",
    "    u = s & t  # __and__(self,l)가 실행된다\n",
    "    print(u)\n",
    "    s = MySet([1, 2, 3])  # s객체 재생성\n",
    "    t = MySet([3, 4, 5])  # t객체 재생성\n",
    "    u = s - t  # __sub__(self,l)가 실행된다\n",
    "    print(u)\n",
    "    s = MySet([1, 2, 3, 4, 5, 6])\n",
    " "
   ]
  },
  {
   "cell_type": "markdown",
   "id": "5800045f",
   "metadata": {},
   "source": [
    "\n",
    ">요구사항 1\n",
    ">>* 매직 매소드 `__or__(self,l)`를 이용했다. 또한 set집합을 사용해 |(합집합) |의 연산자를 재정의 했다. 출력부분은 `__str__(self)`이용이 어려워 `__str__(self)`메소드 안의 내용을 똑같이 적는 방식으로 진행했다. \n",
    "\n",
    ">요구사항2\n",
    ">>* 매직 매소드 `__and__(self,l)`를 이용했다. 또한 set집합을 사용해 &(교집합) |의 연산자를 재정의 했다. 출력부분은 `__str__(self)`이용이 어려워 `__str__(self)`메소드 안의 내용을 똑같이 적는 방식으로 진행했다. \n",
    "\n",
    ">요구사항3\n",
    ">>* 매직 매소드 `_sub__(self,l)`를 이용했다. 또한 set집합을 사용해 -(빼기 즉 차집합) |의 연산자를 재정의 했다. 출력부분은 `__str__(self)`이용이 어려워 `__str__(self)`메소드 안의 내용을 똑같이 적는 방식으로 진행했다. \n",
    "        \n",
    " "
   ]
  },
  {
   "cell_type": "markdown",
   "id": "e10df040",
   "metadata": {},
   "source": [
    "# 6번 문제"
   ]
  },
  {
   "cell_type": "code",
   "execution_count": 9,
   "id": "8a513852",
   "metadata": {},
   "outputs": [
    {
     "name": "stdout",
     "output_type": "stream",
     "text": [
      "MySet: {1 ,2 ,3}\n",
      "MySet: {2 ,3 ,4 ,5 ,6 ,7 ,8 ,9}\n",
      "MySet: {1 ,2 ,3 ,4 ,5 ,6 ,7 ,8 ,9}\n",
      "MySet: {2 ,3}\n",
      "MySet: {1 ,2}\n",
      "6\n",
      "True\n",
      "True\n"
     ]
    }
   ],
   "source": [
    "class MySet(list):\n",
    "    def __init__(self, l):\n",
    "        for e in l:\n",
    "            self.append(e)\n",
    "        MySet.eliminate_duplicate(self)\n",
    "\n",
    "    def __str__(self):\n",
    "        result = \"MySet: {\"\n",
    "        for e in self:\n",
    "            result = result + str(e) + \" ,\"\n",
    "            # 매개변수로 받은 리스트의 요소들을 문자로 형변환을 시켜 result라는 문자열에 추가 시킨다 \" ,\"와 함ㄲㅔ\n",
    "        result = result[0:len(result) - 2] + \"}\"  # 이거는 마지막의\" ,\"를 지우고 닫는 꺽쇠를 더해주는 코드\n",
    "        return result\n",
    "\n",
    "    def __or__(self, other):\n",
    "\n",
    "        return self\n",
    "\n",
    "    @staticmethod\n",
    "    def eliminate_duplicate(l):\n",
    "        s = []\n",
    "        for e in l:\n",
    "            if e not in s:\n",
    "                s.append(e)\n",
    "        l[:] = []  # 빈 리스트로 만들어줌.\n",
    "        for e in s:  # 잘 정리된 리스트s에 담겨있던걸 l에도 담아줌.\n",
    "            l.append(e)\n",
    "\n",
    "    def __or__(self, l):  # 요구사항1. set집합을 사용하여 합집합 =|연산자를 재정의하였다.\n",
    "        self = set(self)\n",
    "        l = set(l)\n",
    "        self = self | l\n",
    "        result = \"MySet: {\"\n",
    "        for e in self:\n",
    "            result = result + str(e) + \" ,\"\n",
    "        result = result[0:len(result) - 2] + \"}\"\n",
    "        return result\n",
    "\n",
    "    def __and__(self, l):  # 요구사항2. set집합을 사용하여 교집합 =&연산자를 재정의하였다.\n",
    "        self = set(self)\n",
    "        l = set(l)\n",
    "        self = self & l\n",
    "        result = \"MySet: {\"\n",
    "        for e in self:\n",
    "            result = result + str(e) + \" ,\"\n",
    "        result = result[0:len(result) - 2] + \"}\"\n",
    "        return result\n",
    "\n",
    "    def __sub__(self, l):  # 요구사항3. set집합을 사용하여 차집합 =-연산자를 재정의하였다.\n",
    "        self = set(self)\n",
    "        l = set(l)\n",
    "        self = self - l\n",
    "        result = \"MySet: {\"\n",
    "        for e in self:\n",
    "            result = result + str(e) + \" ,\"\n",
    "        result = result[0:len(result) - 2] + \"}\"\n",
    "        return result\n",
    "\n",
    "\n",
    "if __name__ == \"__main__\":\n",
    "    s = MySet([1, 2, 2, 3])  # s객체 생성\n",
    "    print(s)\n",
    "    t = MySet([2, 3, 4, 5, 6, 7, 8, 8, 8, 8, 8, 9])  # t객체 생성\n",
    "    print(t)\n",
    "    u = s | t  # __or__(self,l)가 실행된다\n",
    "    print(u)\n",
    "    u = s & t  # __and__(self,l)가 실행된다\n",
    "    print(u)\n",
    "    s = MySet([1, 2, 3])  # s객체 재생성\n",
    "    t = MySet([3, 4, 5])  # t객체 재생성\n",
    "    u = s - t  # __sub__(self,l)가 실행된다\n",
    "    print(u)\n",
    "    s = MySet([1, 2, 3, 4, 5, 6])\n",
    "    print(len(s))  # 내장함수라서\n",
    "    # 6\n",
    "    print(bool(s))\n",
    "    # True\n",
    "    print(2 in s)\n",
    "    # True\n"
   ]
  },
  {
   "cell_type": "markdown",
   "id": "af63d85b",
   "metadata": {},
   "source": [
    "`len(), bool()` 은 내장함수이기때문이다.         \n",
    "파이썬의 내장함수는 외부 모듈과 달리, ***import가 필요 하지 않고 사용할 수*** 있기 때문에 ***아무런 설정이 필요 없이 사용할 수 있다.***"
   ]
  },
  {
   "cell_type": "markdown",
   "id": "9580b937",
   "metadata": {},
   "source": [
    "# Incremental Project"
   ]
  },
  {
   "cell_type": "code",
   "execution_count": null,
   "id": "dc373e1a",
   "metadata": {},
   "outputs": [],
   "source": []
  },
  {
   "cell_type": "markdown",
   "id": "cdb1b87d",
   "metadata": {},
   "source": [
    "# 소감"
   ]
  },
  {
   "cell_type": "markdown",
   "id": "d123aac1",
   "metadata": {},
   "source": [
    "이번 과제를 진행하며 파이썬의 객체지향적인 부분을 많이 느꼈던것같다.        \n",
    "c++ 에서 처음 객체지향이라는 것을 배우고 어려움을 많이 느꼈었는데 자바와 파이썬까지 다양한 객체지향 언어들을 공부하다보니 조금씩 감이 잡히는듯하였다.         \n",
    "Incremental Project를 지난 과제와 이어서 진행을 해보려고 했지만, 다른 과제와 시험기간, 최종 보고서등으로 진행을 하지 못했다. 지금까지 진행하던 웹 크롤링의 마지막을 진행하는 부분이었어서 학기 중에 마무리를 하고 싶었지만 그러지 못했다. 방학 중에도 파이썬 공부를 꾸준히 하며 깃에 올려보는것이 이번 방학 목표중 하나이다.\n",
    "파이썬 마지막 과제를 진행하며 다양한 예제들과 문제들을 풀어본것같다.       \n",
    "파이썬이라는 언어의 장점에 대해 많이 알게되었고 파이써닉(Pythonic)한 코딩도 더 열심히 공부해보고자 한다."
   ]
  }
 ],
 "metadata": {
  "kernelspec": {
   "display_name": "Python 3",
   "language": "python",
   "name": "python3"
  },
  "language_info": {
   "codemirror_mode": {
    "name": "ipython",
    "version": 3
   },
   "file_extension": ".py",
   "mimetype": "text/x-python",
   "name": "python",
   "nbconvert_exporter": "python",
   "pygments_lexer": "ipython3",
   "version": "3.8.8"
  }
 },
 "nbformat": 4,
 "nbformat_minor": 5
}

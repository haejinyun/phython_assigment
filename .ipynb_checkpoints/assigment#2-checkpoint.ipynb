{
 "cells": [
  {
   "cell_type": "markdown",
   "id": "dda03796",
   "metadata": {},
   "source": [
    "# 1번 문제"
   ]
  },
  {
   "cell_type": "code",
   "execution_count": 34,
   "id": "53d32b08",
   "metadata": {},
   "outputs": [
    {
     "name": "stdout",
     "output_type": "stream",
     "text": [
      "4\n",
      "1\n",
      "2\n",
      "2\n",
      "1\n",
      "3\n"
     ]
    }
   ],
   "source": [
    "a = 1 and 2 and 3 and 4\n",
    "b = 1 or 2 or 3 or 4\n",
    "c = 1 and 2 or 3 and 4\n",
    "d = (1 and 2) or (3 and 4)\n",
    "e = 1 or 2 and 3 or 4\n",
    "f = (1 or 2) and (3 or 4)\n",
    "\n",
    "print(a)\n",
    "print(b)\n",
    "print(c)\n",
    "print(d)\n",
    "print(e)\n",
    "print(f)"
   ]
  },
  {
   "cell_type": "markdown",
   "id": "14e4eb72",
   "metadata": {},
   "source": [
    "* a     \n",
    "> 1 and 2를 실행하면 참이기에 2의 값이 반환된다. 이러한 방식으로 and연산을 진행하면 계속 참인 결과로 마지막 반환은 ***4***가 된다.\n",
    "* b\n",
    "> 1 or 2를 실행하면 1이 true로 1이 반환된다. 이는 계속 연산을 진행하여도 1이기에 더 이상 계산하지 않고 바로 ***1***을 반환하게 된다.\n",
    "* c\n",
    "> 결과 값이 2를 나온것으로 보아 c의 연산 순서는 ***뒤에서 부터 진행***된다는 것을 알게되었다. ***3 and 4***연산을 통해 나온 ***4***로 ***2 or 4***를 연산하면 ***2***의 값을 갖는다. 이후 ***1 and 2***를 통해 마지막 반환되는 값은 ***'2'*** 임을 알수있었다.\n",
    "* d\n",
    "> 소가로 먼저 연산을 수행하기에 ***1 and 2***는 2를 반환하고 ***3 and 4***는 4를 반환해 ***2 or 4*** 의 반환값은 2이다.\n",
    "* e\n",
    "> c와 비슷하게 이문제도 뒤에서부터 연산을 실행한다. ***3 or 4***를 통해 3이 반환되고, ***2 and 3***를 통해 2를 반환한다. 마지막으로 ***1 or 2***를 통해 1을 반환한다.\n",
    "* f\n",
    "> 소가로 먼저 연산을 수행하기에 ***1 or 2***를 수행하면 1을 반환하고, ***3 or 4***를 수행하면 3을 반환한다. 마지막으로 ***1 and 3*** 을 수행하면 3을 반환한다.\n",
    "\n",
    "\n",
    "\n",
    "### 기억하기\n",
    ">##### or은 1이 나오면 더 이상 연산 안함\n",
    ">##### and는 0이 나오면 더 이상 연산 안함"
   ]
  },
  {
   "cell_type": "markdown",
   "id": "977ae036",
   "metadata": {},
   "source": [
    "# 2번 문제"
   ]
  },
  {
   "cell_type": "code",
   "execution_count": 43,
   "id": "71aa9aa9",
   "metadata": {},
   "outputs": [
    {
     "name": "stdout",
     "output_type": "stream",
     "text": [
      "['/usr/local/bin', 'python']\n",
      "['/home/chulsoo', 'test.txt']\n"
     ]
    }
   ],
   "source": [
    "def div_paths(s):\n",
    "    i = []\n",
    "    for j in range(len(s)-1, 0, -1):\n",
    "        if '/' == s[j]:\n",
    "            i.append(s[0:j])\n",
    "            i.append(s[j+1:])\n",
    "            break\n",
    "    return i\n",
    "\n",
    "print(div_paths('/usr/local/bin/python'))\n",
    "print(div_paths('/home/chulsoo/test.txt'))\n"
   ]
  },
  {
   "cell_type": "markdown",
   "id": "08a59fa2",
   "metadata": {},
   "source": [
    "***i***라는 빈 리스트를 만든다.\n",
    "두개의 요소를 가진 리스트를 만들어야한다.\n",
    "입력받은 문자열의 길이만큼의 역순으로 for문을 돌리며 안에 ***'/'*** 를 요소로 가지고 있는 인덱스 j를 만난다면 i라는 빈 리스트에 ***슬라이싱을 이용해 처음부터 j까지를 append해 넣어준다.*** (슬라이싱의 마지막 범위는 미만이라 /은 들어가지 않는다.)\n",
    "그 다음 /는 들어가지 않으니 범위를 ***j+1부터 끝까지 append해준다.***\n",
    "그리고 리스트 i를 반환해주면 함수가 완성된다."
   ]
  },
  {
   "cell_type": "markdown",
   "id": "c0480c80",
   "metadata": {},
   "source": [
    "# 3번 문제"
   ]
  },
  {
   "cell_type": "code",
   "execution_count": 45,
   "id": "bc3e0af0",
   "metadata": {},
   "outputs": [
    {
     "name": "stdout",
     "output_type": "stream",
     "text": [
      "[0, 1, 2]\n"
     ]
    }
   ],
   "source": [
    "def list_union(lista, listb):\n",
    "    listab = []\n",
    "    R_list = []\n",
    "\n",
    "    # 오름차순으로 정렬\n",
    "    lista.sort()\n",
    "    listb.sort()\n",
    "\n",
    "    listab = lista + listb\n",
    "\n",
    "    # 중복되는 것이 있는지 확인 후 new_lista와 new_listb에 저장\n",
    "    for a in listab:\n",
    "        if a not in R_list:\n",
    "            R_list.append(a)\n",
    "\n",
    "    return R_list\n",
    "\n",
    "\n",
    "print(list_union([0,1,2], [0,1,2]))"
   ]
  },
  {
   "cell_type": "markdown",
   "id": "d5f50e46",
   "metadata": {},
   "source": [
    "합집합은 두 개의 리스트에서 공통되는 부분을 찾아 출력해주면 된다.\n",
    "먼저 ***sort()*** 를 사용해 매개변수로 입력받은 두개의 리스트를 ***오름차순***으로 정렬한다.   \n",
    "이후 ***+*** 를 통해 두개의 리스트를 하나로 연결해준다.   \n",
    "합집합은 공통되는 부분이기에 공통 부분을 확인하고 이를 반환해준다.   \n",
    "공통 부분을 찾는 방법은 하나로 연결한 리스트(listab)를 ***for문***을 사용해 돌린다.    \n",
    "이 과정 중 만약 새로운 빈 리스트인 ***R_list***에 값이 없으면 넣어준다. 이런 방식으로 설계를 하면 ***반복되는 숫자는 R_list에 들어가지 않는다.***"
   ]
  },
  {
   "cell_type": "markdown",
   "id": "07296d34",
   "metadata": {},
   "source": [
    "# 4번 문제"
   ]
  },
  {
   "cell_type": "code",
   "execution_count": 48,
   "id": "56733f1d",
   "metadata": {},
   "outputs": [
    {
     "name": "stdout",
     "output_type": "stream",
     "text": [
      "[-10, 0]\n"
     ]
    }
   ],
   "source": [
    "def list_intersection(lista, listb):\n",
    "    R_list = []\n",
    "    new_lista = []\n",
    "    new_listb = []\n",
    "\n",
    "    # 오름차순으로 정렬\n",
    "    lista.sort()\n",
    "    listb.sort()\n",
    "\n",
    "    # 중복되는 것이 있는지 확인 후 new_lista와 new_listb에 저장\n",
    "    for a in lista:\n",
    "        if a not in new_lista:\n",
    "            new_lista.append(a)\n",
    "\n",
    "    for b in listb:\n",
    "        if b not in new_listb:\n",
    "            new_listb.append(b)\n",
    "\n",
    "    # 교집합 정하는 부분\n",
    "\n",
    "    for i in range(0, len(new_lista), 1):\n",
    "        for j in range(0, len(new_listb), 1):\n",
    "            if new_lista[i] == new_listb[j]:\n",
    "                R_list.append(new_lista[i])\n",
    "                break\n",
    "\n",
    "    return R_list\n",
    "\n",
    "\n",
    "print(list_intersection([-10,-5,0,-1], [-10,9,9,0]))\n"
   ]
  },
  {
   "cell_type": "markdown",
   "id": "5dcf6260",
   "metadata": {},
   "source": [
    "교집합을 구하는 방법으로는 합집합과 비슷한 과정으로 오름차순으로 정렬을 한 뒤, 중복되는 것이 있는지 확인을 한다. 그러나 ***입력받은 list를 각각 따로 진행해준다.***    \n",
    "그리고 둘의 공통되는 부분만을 출력하기 위해 ***이중 for문***을 사용해서 ***둘이 같은 값이 있을때만 새로운 빈 리스트인 new_list에 append해준다.*** 그리고 new_list를 return 해주면 교집합을 구할 수 있다."
   ]
  },
  {
   "cell_type": "markdown",
   "id": "926e0417",
   "metadata": {},
   "source": [
    "# 5번(1) 문제"
   ]
  },
  {
   "cell_type": "code",
   "execution_count": 47,
   "id": "30839661",
   "metadata": {},
   "outputs": [
    {
     "name": "stdout",
     "output_type": "stream",
     "text": [
      "[5, 6]\n"
     ]
    }
   ],
   "source": [
    "def list_difference(lista, listb):\n",
    "    R_list = []  # 교집합\n",
    "    new_lista = []  # 오름차순에 중복이 없는 lista\n",
    "    new_listb = []  # 오름차순에 중복이 없는 listb\n",
    "    D_list = []  # 차집합\n",
    "\n",
    "    # 오름차순으로 정렬\n",
    "    lista.sort()\n",
    "    listb.sort()\n",
    "\n",
    "    # 중복되는 것이 있는지 확인 후 new_lista와 new_listb에 저장\n",
    "    for a in lista:\n",
    "        if a not in new_lista:\n",
    "            new_lista.append(a)\n",
    "\n",
    "    for b in listb:\n",
    "        if b not in new_listb:\n",
    "            new_listb.append(b)\n",
    "\n",
    "    #a에서 b를 뺀것은 a에서 교집합을 뺀것과 동일\n",
    "    for a_a in new_lista:\n",
    "        if a_a not in listb:\n",
    "            D_list.append(a_a)\n",
    "\n",
    "    return D_list\n",
    "\n",
    "\n",
    "print(list_difference([2,1,5,6], [2,1,8,9]))\n"
   ]
  },
  {
   "cell_type": "markdown",
   "id": "24d47ec8",
   "metadata": {},
   "source": [
    "차집합을 구하는 것은 전체 집합이 주어지지 않아 a에서 b를 뺀것으로 이해했다.   \n",
    "***a - b는 a - 교집합과 동일하다.***    \n",
    "고로 뺀다라는 의미는 공통된 것을 지운다라는 이야기로 위에서 교집합을 구할때 한 것처럼 ***new_lista를 for문을 실행시키고 만약 새로운 리스트 안에 for문을 돌고있는 요소값이 없다면 새로운 리스트에 추가시킨다.***  "
   ]
  },
  {
   "cell_type": "markdown",
   "id": "963c9850",
   "metadata": {},
   "source": [
    "# 5번(2) 문제"
   ]
  },
  {
   "cell_type": "code",
   "execution_count": 50,
   "id": "78c08cec",
   "metadata": {},
   "outputs": [
    {
     "name": "stdout",
     "output_type": "stream",
     "text": [
      "2이상 10이하 정수 중 소수 리스트: [2, 3, 5, 7]\n"
     ]
    }
   ],
   "source": [
    "def print_primenumber(a, b):\n",
    "    P_list = []\n",
    "    i = 0\n",
    "    j = 0\n",
    "    check = 0\n",
    "\n",
    "    for i in range(a, b):\n",
    "        for j in range(a, i):\n",
    "            if i % j == 0:\n",
    "                check = 1\n",
    "                break\n",
    "\n",
    "        if check == 0:\n",
    "            P_list.append(i)\n",
    "        check = 0\n",
    "    fin = '{num1}이상 {num2}이하 정수 중 소수 리스트: {list}'.format(num1=a, num2=b, list=P_list)\n",
    "    print(fin)\n",
    "\n",
    "\n",
    "print_primenumber(2, 10)\n"
   ]
  },
  {
   "cell_type": "markdown",
   "id": "ab20ff7e",
   "metadata": {},
   "source": [
    "지난 1번 과제에서 소수 주하기를 했던것과 동일한 매커니즘을 가지고 코드를 짰다.    \n",
    "그러나 ***함수를 통해 매개변수를 받아 그 변수들로 소수 리스트를 만든다.***    \n",
    "소수를 구하는 방법으로는 **중첩 for문**을 이용한다.\n",
    "**첫번째 for문은 매개변수로 받은 a부터 b값 까지로 지정**한다.\n",
    "그 안에 **두번째 for문은 a부터 밖의 for문의 i번째까지** 연산한다. \n",
    "두번째 for문 안에 if문을 사용해 i를 j로 나누었을때의 나머지가 0인 즉 i의 약수가 j인 경우는 **check변수에 1 값을 지정**한다. \n",
    "그 뒤 두번째 for문을 break를 통해 빠져나온다. \n",
    "그렇다면 만약 **check의 값이 1로 바뀌지 않았을 경우는 i에 약수가 없다는 의미로 그 i는 소수임을 알 수 있어 print한다.**     \n",
    "그리고 ***format***을 사용해 값을 할당해준다."
   ]
  },
  {
   "cell_type": "markdown",
   "id": "f635c037",
   "metadata": {},
   "source": [
    "# 6번 문제(1) (Incremental Project)"
   ]
  },
  {
   "cell_type": "code",
   "execution_count": 1,
   "id": "b1fc2555",
   "metadata": {},
   "outputs": [
    {
     "name": "stdout",
     "output_type": "stream",
     "text": [
      "\n",
      "\n",
      "\n",
      "  \n",
      "\n",
      "    \n",
      "\n",
      "    \n",
      "감각 있는 온라인 셀렉트샵 29CM\n",
      "\n",
      "    \n",
      "\n",
      "\n",
      "    \n",
      "\n",
      "    \n",
      "\n",
      "    \n",
      "\n",
      "    \n",
      "\n",
      "    \n",
      "\n",
      "    \n",
      "\n",
      "    \n",
      "\n",
      "    \n",
      "\n",
      "\n",
      "    \n",
      "\n",
      "    \n",
      "\n",
      "    \n",
      "\n",
      "\n",
      "    \n",
      "\n",
      "    \n",
      "\n",
      "    \n",
      "\n",
      "    \n",
      "\n",
      "    \n",
      "\n",
      "    \n",
      "\n",
      "    \n",
      "\n",
      "    \n",
      "\n",
      "\n",
      "    \n",
      "\n",
      "    \n",
      "\n",
      "    \n",
      "\n",
      "    \n",
      "\n",
      "    \n",
      "\n",
      "\n",
      "    \n",
      "\n",
      "    \n",
      "\n",
      "\n",
      "    \n",
      "\n",
      "    \n",
      "\n",
      "      body,\n",
      "      input,\n",
      "      select,\n",
      "      textarea,\n",
      "      button,\n",
      "      a {\n",
      "        -webkit-text-size-adjust: none;\n",
      "        font-family: 'campton', 'Apple SD Gothic Neo', NanumBarunGothic,\n",
      "          '나눔바른고딕', Malgun Gothic, '맑은 고딕', dotum, sans-serif;\n",
      "      }\n",
      "    \n",
      "\n",
      "    \n",
      "\n",
      "    \n",
      "\n",
      "      {\n",
      "        \"@context\": \"http://schema.org\",\n",
      "        \"@type\": \"Person\",\n",
      "        \"name\": \"감각 있는 온라인 셀렉트샵 29CM\",\n",
      "        \"url\": \"https://www.29cm.co.kr\",\n",
      "        \"sameAs\": [\n",
      "          \"https://www.facebook.com/29centimeter\",\n",
      "          \"https://instagram.com/29cm.official\",\n",
      "          \"https://blog.naver.com/29centimeter\",\n",
      "          \"https://apps.apple.com/kr/app/id789634744\",\n",
      "          \"https://play.google.com/store/apps/details?id=com.the29cm.app29cm\"\n",
      "        ]\n",
      "      }\n",
      "    \n",
      "\n",
      "  \n",
      "\n",
      "\n",
      "  \n",
      "\n",
      "    \n",
      "\n",
      "\n",
      "  \n",
      "\n",
      "\n",
      "\n",
      "\n",
      "\n",
      "\n",
      "\n",
      "\n",
      "\n",
      "\n",
      "\n",
      "\n",
      "\n"
     ]
    }
   ],
   "source": [
    "import requests\n",
    "\n",
    "req = requests.get('https://www.29cm.co.kr/home/')\n",
    "\n",
    "source = req.text\n",
    "\n",
    "\n",
    "def delete(s):\n",
    "    l = []\n",
    "    right = 0\n",
    "    left = 0\n",
    "    for i in range(0, len(s)):  # 문자열 길이만큼 for문\n",
    "        if s[i] == '>':  # >가 나오면\n",
    "            left = i  # 인덱스 값 left에 설정\n",
    "            for j in range(i + 1, len(s)):  # 이중 for문을 사용해 i 이후부터 실행\n",
    "                if s[j] == '<':  # >가 나오면\n",
    "                    right = j  # 인덱스 값 right에 설정\n",
    "                    break\n",
    "            l.append(s[left + 1:right])  # ><중간 사이의 값을 append를 사용해 ㅣ\n",
    "    return l\n",
    "\n",
    "\n",
    "li = delete(source)\n",
    "for i in range(0, len(li)):  # 줄단위로 출력하기\n",
    "    print(li[i])"
   ]
  },
  {
   "cell_type": "markdown",
   "id": "b4c162fb",
   "metadata": {},
   "source": [
    "<>에 있는 문장을 다 지워야하니 >부터 <까지의 값을 새로운 리스트에 append하는 것을 기본으로 한다.\n",
    "***for문을 통해 i를 0부터 입력받은 문자열의 길이까지 진행***한다.    \n",
    "그 중 ***if문을 사용해 '>'가 나오면 이중 for문을 사용***해 ***j를 i이후부터(> 이후의 <를 찾아야하기 때문) 입력받은 문자열의 길이까지 진행***한다.   \n",
    "각각 i는 left로 j는 right로 설정한다.\n",
    "그 뒤 if 문을 빠져나와 새로운 ***리스트 l에 슬라이싱을 이용해 append***해 준다.\n",
    "\n",
    "#### 해결하지 못한 점\n",
    "위처럼 <>문을 제거 한 뒤, 예외적으로 존재하는 문장들이 있었다.   \n",
    "그러나 이런 문장을 제거 하지 못했다. 이 부분이 매우 아쉬웠다."
   ]
  },
  {
   "cell_type": "markdown",
   "id": "3352852d",
   "metadata": {},
   "source": [
    "# 6번 문제(2) (Incremental Project)"
   ]
  },
  {
   "cell_type": "code",
   "execution_count": null,
   "id": "711fce9c",
   "metadata": {},
   "outputs": [],
   "source": [
    "import requests\n",
    "\n",
    "req = requests.get('https://www.naver.com/')\n",
    "\n",
    "source = req.text\n",
    "\n",
    "\n",
    "def delete(s):\n",
    "    l = []\n",
    "    right = 0\n",
    "    left = 0\n",
    "    for i in range(0, len(s)):  # 문자열 길이만큼 for문\n",
    "        if s[i] == '>':  # >가 나오면\n",
    "            left = i  # 인덱스 값 left에 설정\n",
    "            for j in range(i + 1, len(s)):  # 이중 for문을 사용해 i 이후부터 실행\n",
    "                if s[j] == '<':  # >가 나오면\n",
    "                    right = j  # 인덱스 값 right에 설정\n",
    "                    break\n",
    "            l.append(s[left + 1:right])  # ><중간 사이의 값을 append를 사용해 ㅣ\n",
    "    return l\n",
    "\n",
    "\n",
    "li = delete(source)\n",
    "for i in range(0, len(li)):  # 줄단위로 출력하기\n",
    "    print(li[i])\n"
   ]
  },
  {
   "cell_type": "markdown",
   "id": "f1783b29",
   "metadata": {},
   "source": [
    "위 문제와 같은 방식으로 진행."
   ]
  },
  {
   "cell_type": "markdown",
   "id": "05f24a5c",
   "metadata": {},
   "source": [
    "# 소감\n",
    "\n",
    "2차시 과제를 진행하며 전보다는 파이썬에 익숙해졌다는것을 느낄 수 있었다.   \n",
    "그러나 마지막 문제에서 예외 처리를 하는 과정에서 어려움이 있었다.    \n",
    "\"> <\"사이의 문자를 append하는 것과 비슷하게 해서 예외를 처리하려고 생각했던 알고리즘이 제대로 작동하지 않아 오랜 시간 정체되어있다 결국은 해결하지 못함에 있어 아쉬움이 많다.   \n",
    "다음 주차 과제에서 이 문제를 더 발전 시키는 문제가 있다고 하셨는데 다음 주차에는 꼭 과제를 끝까지 성공했으면 한다."
   ]
  }
 ],
 "metadata": {
  "kernelspec": {
   "display_name": "Python 3",
   "language": "python",
   "name": "python3"
  },
  "language_info": {
   "codemirror_mode": {
    "name": "ipython",
    "version": 3
   },
   "file_extension": ".py",
   "mimetype": "text/x-python",
   "name": "python",
   "nbconvert_exporter": "python",
   "pygments_lexer": "ipython3",
   "version": "3.8.8"
  }
 },
 "nbformat": 4,
 "nbformat_minor": 5
}

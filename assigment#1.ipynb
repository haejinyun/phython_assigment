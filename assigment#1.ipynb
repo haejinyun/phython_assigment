{
 "cells": [
  {
   "cell_type": "markdown",
   "id": "e1596931",
   "metadata": {},
   "source": [
    "# 1문제 "
   ]
  },
  {
   "cell_type": "code",
   "execution_count": 2,
   "id": "77e3c9a9",
   "metadata": {},
   "outputs": [],
   "source": [
    "a=\"Hello Python\"\n",
    "a=a[6:12]+\" \" +a[:5]\n",
    "print(a) "
   ]
  },
  {
   "cell_type": "markdown",
   "id": "bee79598",
   "metadata": {},
   "source": [
    "a에 \"Hello Python\"을 넣었다 이는 인덱스로 따지면 H는 0부터 시작해 공백도 세어 마지막인 n은 11이다.\n",
    "**슬라이싱을 이용해 a의 부분을 추출해 +로 문장을 연결해 print한다.**\n",
    "주의해야하는 부분으로는 슬라이싱을 할때 ex)[a:b]에서 **시작 범위인 a는 숫자 a부터 적용이지만 마지막 부분인 b는 숫자 b-1번째 까지 세어짐으로 범위를 지정할때 한 자리 크게 지정해야한다.**"
   ]
  },
  {
   "cell_type": "markdown",
   "id": "9c95572d",
   "metadata": {},
   "source": [
    "# 2문제"
   ]
  },
  {
   "cell_type": "code",
   "execution_count": 30,
   "id": "fb646631",
   "metadata": {},
   "outputs": [],
   "source": [
    "b=\"Hello Python World\"\n",
    "b=b[13:18]+\" \"+b[6:12]+\" \"+b[:5]\n",
    "print(b)"
   ]
  },
  {
   "cell_type": "markdown",
   "id": "c61f8d62",
   "metadata": {},
   "source": [
    "b에 \"Hello Python World\"을 넣었다 이는 인덱스로 따지면 H는 0부터 시작해 공백도 세어 마지막인 d은 17이다.\n",
    "슬라이싱을 이용해 b의 부분을 추출해 +로 문장을 연결해 print한다."
   ]
  },
  {
   "cell_type": "markdown",
   "id": "abd7a380",
   "metadata": {},
   "source": [
    "# 3문제"
   ]
  },
  {
   "cell_type": "code",
   "execution_count": 32,
   "id": "ba435585",
   "metadata": {},
   "outputs": [],
   "source": [
    "c=\"Hello\"\n",
    "c=c[::-1]\n",
    "print(c)"
   ]
  },
  {
   "cell_type": "markdown",
   "id": "20924c5e",
   "metadata": {},
   "source": [
    "ex) a[A:B:C]는 인덱스 A부터 인덱스 B까지 C의 간격으로 배열을 만들어라라는 뜻이다.\n",
    "여기서 **A가 none이라면 처음부터**라는 뜻이다. **B가 none이라면 할수있는데까지**(문자열 싹다)라는 뜻이다. **C가 양수이면 마지막 인덱스까지(순차적으로), 음수이면 첫 인덱스까지(역순으로)** 라는 뜻이다. 만약 **C가 none이라면 한칸 간격으로**라는 뜻이다.\n",
    "\n",
    "고로 역순으로 출력하기 위해서는 **A와 B에는 none값을, C에는 -1을 지정하면 처음부터 끝까지 역순으로 하나씩 출력**하라라는 뜻이 된다."
   ]
  },
  {
   "cell_type": "markdown",
   "id": "c5d84ef8",
   "metadata": {},
   "source": [
    "# 4문제"
   ]
  },
  {
   "cell_type": "code",
   "execution_count": 6,
   "id": "2f80d88b",
   "metadata": {},
   "outputs": [
    {
     "name": "stdout",
     "output_type": "stream",
     "text": [
      "p\n"
     ]
    }
   ],
   "source": [
    "s=\"python\"\n",
    "print(s[0])"
   ]
  },
  {
   "cell_type": "markdown",
   "id": "dbdc3432",
   "metadata": {},
   "source": [
    "s에 문자열 \"python\"을 입력하면 각 인덱스 값 **p는 0부터 하나씩 마지막 n은 5로 지정**된다.\n",
    "**s[a]은 문자열 s에서 인덱스값이 a인 것**을 가르킨다.\n",
    "고로 s[0]은 문자열 s의 인덱스 값0을 가지는 **p**이다."
   ]
  },
  {
   "cell_type": "code",
   "execution_count": 46,
   "id": "da60312e",
   "metadata": {},
   "outputs": [
    {
     "data": {
      "text/plain": [
       "'p'"
      ]
     },
     "execution_count": 46,
     "metadata": {},
     "output_type": "execute_result"
    }
   ],
   "source": [
    "s=\"python\"\n",
    "s[0][0]"
   ]
  },
  {
   "cell_type": "markdown",
   "id": "b67f9336",
   "metadata": {},
   "source": [
    "위와 같이 s에 문자열에 인덱스 값은 시작하는 문자 p=s[0]이고 마지막 문자인 n=s[5]로 지정되어있다.\n",
    "s[0][0]을 처리하는 방법을 설명하면 먼저 s[0]은 p임을 위 예제에서 알아냈다. \n",
    "그렇다면 문자열이지만 안에 있는 요소가 p뿐인 s[0]의 0번째 인덱스의 값은 p이므로 s[0][0]은 p임을 알수 있다. \n",
    "##### 주의\n",
    "s[0][1]의 경우에는 error가 뜬다. \n",
    "그 이유는 s[0]은 문자열의 요소가 p뿐이 없는 문자열로 인덱스 값이 0이 끝이라 [1]이 없어 **error**가 뜨는 것이다."
   ]
  },
  {
   "cell_type": "code",
   "execution_count": 39,
   "id": "dd693e6d",
   "metadata": {},
   "outputs": [
    {
     "data": {
      "text/plain": [
       "'p'"
      ]
     },
     "execution_count": 39,
     "metadata": {},
     "output_type": "execute_result"
    }
   ],
   "source": [
    "s=\"python\"\n",
    "s[0][0][0]"
   ]
  },
  {
   "cell_type": "markdown",
   "id": "da671684",
   "metadata": {},
   "source": [
    "위 s[0][0]의 연산과 비슷하게 연산을 진행한다. \n",
    "s[0][0]의 값은 p임을 알아냈다. 이를 또 이용해 s[0][0]의 문자열안 요소는 p하나 뿐이라 s[0][0]의 인덱스0의 값은 p임을 알수 있다.\n",
    "고로 s[0][0][0]는 p이다.\n",
    "##### 주의\n",
    "위 문제와 같은 이유로 s[0][0][1]의 경우는 **error**가 뜬다.\n"
   ]
  },
  {
   "cell_type": "code",
   "execution_count": 4,
   "id": "ba7f9fd8",
   "metadata": {},
   "outputs": [
    {
     "ename": "SyntaxError",
     "evalue": "invalid syntax (<ipython-input-4-823e6ff9bd20>, line 1)",
     "output_type": "error",
     "traceback": [
      "\u001b[1;36m  File \u001b[1;32m\"<ipython-input-4-823e6ff9bd20>\"\u001b[1;36m, line \u001b[1;32m1\u001b[0m\n\u001b[1;33m    s=\"python\"s[100]\u001b[0m\n\u001b[1;37m              ^\u001b[0m\n\u001b[1;31mSyntaxError\u001b[0m\u001b[1;31m:\u001b[0m invalid syntax\n"
     ]
    }
   ],
   "source": [
    "s=\"python\"\n",
    "s[100]"
   ]
  },
  {
   "cell_type": "markdown",
   "id": "268396d7",
   "metadata": {},
   "source": [
    "문자열 s의 인덱스의 끝은 5인데 출력하려는 문자열 s의 값은 100이므로 출력하려는 인덱스 값이 범위에서 벗어났기 때문에 **error**가 난다."
   ]
  },
  {
   "cell_type": "code",
   "execution_count": 49,
   "id": "3ac17986",
   "metadata": {},
   "outputs": [
    {
     "ename": "IndexError",
     "evalue": "string index out of range",
     "output_type": "error",
     "traceback": [
      "\u001b[1;31m---------------------------------------------------------------------------\u001b[0m",
      "\u001b[1;31mIndexError\u001b[0m                                Traceback (most recent call last)",
      "\u001b[1;32m<ipython-input-49-3eaddaa60d3d>\u001b[0m in \u001b[0;36m<module>\u001b[1;34m\u001b[0m\n\u001b[1;32m----> 1\u001b[1;33m \u001b[0ms\u001b[0m\u001b[1;33m[\u001b[0m\u001b[1;33m-\u001b[0m\u001b[1;36m100\u001b[0m\u001b[1;33m]\u001b[0m\u001b[1;33m\u001b[0m\u001b[1;33m\u001b[0m\u001b[0m\n\u001b[0m",
      "\u001b[1;31mIndexError\u001b[0m: string index out of range"
     ]
    }
   ],
   "source": [
    "s=\"python\"\n",
    "s[-100]"
   ]
  },
  {
   "cell_type": "markdown",
   "id": "f8cca855",
   "metadata": {},
   "source": [
    "문자열 s의 인덱스 -1값은 n이고 끝은 -6으로 p인데 출력하려는 문자열 s의 값은 -100이므로 출력하려는 인덱스 값이 범위에서 벗어났기 때문에 error가 난다."
   ]
  },
  {
   "cell_type": "code",
   "execution_count": 50,
   "id": "903f983d",
   "metadata": {
    "scrolled": true
   },
   "outputs": [
    {
     "ename": "TypeError",
     "evalue": "string indices must be integers",
     "output_type": "error",
     "traceback": [
      "\u001b[1;31m---------------------------------------------------------------------------\u001b[0m",
      "\u001b[1;31mTypeError\u001b[0m                                 Traceback (most recent call last)",
      "\u001b[1;32m<ipython-input-50-20fffd3b3844>\u001b[0m in \u001b[0;36m<module>\u001b[1;34m\u001b[0m\n\u001b[1;32m----> 1\u001b[1;33m \u001b[0ms\u001b[0m\u001b[1;33m[\u001b[0m\u001b[1;33m-\u001b[0m\u001b[1;36m100\u001b[0m\u001b[1;33m,\u001b[0m\u001b[1;36m100\u001b[0m\u001b[1;33m]\u001b[0m\u001b[1;33m\u001b[0m\u001b[1;33m\u001b[0m\u001b[0m\n\u001b[0m",
      "\u001b[1;31mTypeError\u001b[0m: string indices must be integers"
     ]
    }
   ],
   "source": [
    "s=\"python\"\n",
    "s[-100,100]"
   ]
  },
  {
   "cell_type": "markdown",
   "id": "57def02d",
   "metadata": {},
   "source": [
    "에러가 뜬다. 에러의 내용으로는 `TypeError: string indices must be integers`로 인덱스의 값은 반드시 정수여야한다는 내용이다. 인덱스로 변수와 연산자가 들어간 표현식을 사용할 수 있지만 ,와 같은 것은 사용하지 못하기 때문에 error가 뜬다."
   ]
  },
  {
   "cell_type": "code",
   "execution_count": 60,
   "id": "63b8a8f1",
   "metadata": {},
   "outputs": [
    {
     "data": {
      "text/plain": [
       "'ytho'"
      ]
     },
     "execution_count": 60,
     "metadata": {},
     "output_type": "execute_result"
    }
   ],
   "source": [
    "s=\"python\"\n",
    "print(s[1:-1])"
   ]
  },
  {
   "cell_type": "markdown",
   "id": "14036806",
   "metadata": {},
   "source": [
    "슬라이싱을 이용해 print한다.\n",
    "인덱스1 값은 y이고 인덱스-1값은 n이다. 그러나 슬라이싱을 이용할때 마지막 값을 b라고 두었을때 b-1까지 출력하기 때문에 인덱스-2인 o까지 출력된다.\n",
    "고로 y부터 o까지인 ytho를 출력한다."
   ]
  },
  {
   "cell_type": "code",
   "execution_count": 63,
   "id": "3c406fb1",
   "metadata": {
    "scrolled": true
   },
   "outputs": [
    {
     "data": {
      "text/plain": [
       "''"
      ]
     },
     "execution_count": 63,
     "metadata": {},
     "output_type": "execute_result"
    }
   ],
   "source": [
    "s=\"python\"\n",
    "s[3:-3]"
   ]
  },
  {
   "cell_type": "markdown",
   "id": "bcbdbe0b",
   "metadata": {},
   "source": [
    "**슬라이싱**을 이용해 print한다.\n",
    "인덱스3 값은 h이고 인덱스-3값 또한 h이다. 그러나 슬라이싱을 이용할때 마지막 값을 b라고 두었을때 b-1까지 출력하기 때문에 인덱스-4인 t를 마지막 값으로 둔다. 그러나 둘의 사이에서 출력하는 것이 불가능하기 때문에 출력이 되지않는다."
   ]
  },
  {
   "cell_type": "markdown",
   "id": "0e83d4ae",
   "metadata": {},
   "source": [
    "# 5문제"
   ]
  },
  {
   "cell_type": "code",
   "execution_count": null,
   "id": "09f2cb4c",
   "metadata": {},
   "outputs": [],
   "source": [
    "for i in range(1, 100 + 1, 1):\n",
    "    if i % 2 == 1:\n",
    "        print(i)"
   ]
  },
  {
   "cell_type": "markdown",
   "id": "784737e5",
   "metadata": {},
   "source": [
    "for문을 사용한다. range를 통해 범위를 설정한다.\n",
    "1부터 100+1까지(미만으로 for문이 돌아가기때문에 1을 더해줌) i값을 1씩 증가시키며 진행한다.\n",
    "for문이 돌아가는 동안 if문을 사용해 i의 값을 2로 나눈 나머지 값이 1인 즉 홀수일때만 print한다.\n",
    "##### 주의\n",
    "파이썬에는 중가로{}가 없기에 들어쓰기를 주의해야한다."
   ]
  },
  {
   "cell_type": "markdown",
   "id": "1b8421cc",
   "metadata": {},
   "source": [
    "# 6문제"
   ]
  },
  {
   "cell_type": "code",
   "execution_count": null,
   "id": "d22381b8",
   "metadata": {},
   "outputs": [],
   "source": [
    "j = 0\n",
    "sum = 0\n",
    "while (j < 100):\n",
    "    j = j + 1\n",
    "    if j % 2 == 0:\n",
    "        sum += j\n",
    "    continue\n",
    "print(sum)"
   ]
  },
  {
   "cell_type": "markdown",
   "id": "c0d2773f",
   "metadata": {},
   "source": [
    "while문을 사용한다.\n",
    "j를 0으로 초기화 한 뒤 이 값이 100보다 작을때까지 코드를 수행한다.\n",
    "j=j+1을 통해 while문 안에 연산이 수행될때마다 j의 값이 1씩 증가하게 한다.\n",
    "while문 안에 if문을 사용해 j를 2를 나누었을때 나머지가 0인 즉 짝수인 값인 j가 연산되면 sum이라는 변수에 값을 저장해 가며 코드를 진행한다.\n",
    "그 뒤 while 문을 빠져나오면 print를 사용해 sum값을 출력한다."
   ]
  },
  {
   "cell_type": "markdown",
   "id": "1958188a",
   "metadata": {},
   "source": [
    "# 7문제"
   ]
  },
  {
   "cell_type": "code",
   "execution_count": null,
   "id": "cffab791",
   "metadata": {},
   "outputs": [],
   "source": [
    "num = input('정수를 입력하세요:')\n",
    "print('숫자 역순은 %s 입니다.' % (num[::-1]))"
   ]
  },
  {
   "cell_type": "markdown",
   "id": "839ef431",
   "metadata": {},
   "source": [
    "파이썬의 입력 문자인 input을 통해 사용자에게 num이라는 값을 받아온다.\n",
    "그리고 3번 문제와 동일한 방식으로 정수를 역순으로 출력한다.\n",
    "##### 주의\n",
    "파이썬의 input은 입력 받은 값의 형을 지정해주지 않으면, **자동적으로 문자열로 입력받기** 때문에 3번 문제와 동일한 방식으로 진행 할 수 있었다."
   ]
  },
  {
   "cell_type": "markdown",
   "id": "99baad46",
   "metadata": {},
   "source": [
    "# 8문제"
   ]
  },
  {
   "cell_type": "code",
   "execution_count": null,
   "id": "af294adb",
   "metadata": {},
   "outputs": [],
   "source": [
    "i = 0\n",
    "j = 0\n",
    "check = 0\n",
    "num = int(input('정수를 입력하세요:'))\n",
    "\n",
    "for i in range(2, num):\n",
    "    for j in range(2, i):\n",
    "        if i % j == 0:\n",
    "            check = 1\n",
    "            break\n",
    "\n",
    "    if check == 0:\n",
    "        print(i)\n",
    "    check = 0"
   ]
  },
  {
   "cell_type": "markdown",
   "id": "8fccb341",
   "metadata": {},
   "source": [
    "check를 0으로 초기화해준다\n",
    "소수를 구하는 방법으로는 **중첩 for문**을 이용한다.\n",
    "**첫번째 for문은 i를 2부터 사용자에게 입력받은 num값까지로 지정**한다.\n",
    "그 안에 **두번째 for문은 j를 2부터 밖의 for문의 i번째까지** 연산한다. \n",
    "두번째 for문 안에 if문을 사용해 i를 j로 나누었을때의 나머지가 0인 즉 i의 약수가 j인 경우는 **check변수에 1 값을 지정**한다. \n",
    "그 뒤 두번째 for문을 break를 통해 빠져나온다. \n",
    "그렇다면 만약 **check의 값이 1로 바뀌지 않았을 경우는 i에 약수가 없다는 의미로 그 i는 소수임을 알 수 있어 print한다.**\n",
    "##### 주의\n",
    "소수를 구하는 방법으로는 나누어지는 약수가 있는지 없는지를 중첩 for문을 사용해 구한다.\n",
    "나누어 지는 수가 있다면 check에 값을 변화시켜 구분을 하고 없다면 값을 변화시키지 않음으로 구별한다."
   ]
  },
  {
   "cell_type": "markdown",
   "id": "3c269940",
   "metadata": {},
   "source": [
    "# 9문제"
   ]
  },
  {
   "cell_type": "code",
   "execution_count": null,
   "id": "8c49adc7",
   "metadata": {},
   "outputs": [],
   "source": [
    "kevin_score = 0\n",
    "stuart_score = 0\n",
    "s = input('string S를 입력하세요:')\n",
    "vowels = 'AEIOU'\n",
    "\n",
    "for i in range(0, len(s)):\n",
    "    if s[i] in vowels:\n",
    "        kevin_score += len(s) - i\n",
    "\n",
    "    else:\n",
    "        stuart_score += len(s) - i\n",
    "\n",
    "if kevin_score > stuart_score:\n",
    "    print(\"승자: Kevin 점수: %d\"% kevin_score)\n",
    "\n",
    "elif kevin_score==stuart_score:\n",
    "    print(\"비겼습니다.\")\n",
    "\n",
    "else:\n",
    "    print(\"승자: Stuart 점수: %d\"% stuart_score)\n"
   ]
  },
  {
   "cell_type": "markdown",
   "id": "cb0d8266",
   "metadata": {},
   "source": [
    "먼저 게임의 규칙은 만약 banana로 예를 들어 설명한다.\n",
    "자음보다는 모음의 개수가 적어 입력받은 s문자열에서 인덱스 값을 통해 모음이 어디 인덱스에 있는지를 찾아낸다\n",
    ">for문을 통해 i가 0부터 문자열 s의 길이만큼 연산된다.\n",
    "\n",
    "for문을 통해 반복을 하던 중 만약 s[i]가 모음일 경우 전체의 s의 길이(len(s))에서 i만큼을 뺀다. \n",
    "그리고 이 값을 0으로 초기화 되어있는 kevin_score에 계속해서 더해준다. \n",
    "> 이것이 점수를 얻는 체계이다. \n",
    "다시 말하자면 banana의 첫번째 a인 s[1]은 i값이 1이다. \n",
    "s의 전체 길이인 6에서 i값인 1을 빼면 5이다.\n",
    "이것은 첫번째 a를 가지는 그 부분부터 kevin이 얻는 점수를 얻는 모든 경우의 점수를 총 합친 결과이다. \n",
    "이런 규칙은 다음 번에 나오는 모음에서도 같은 규칙을 가지고 stuart의 점수 계산에서도 동일하게 쓰임으로 \n",
    "플레이어의 점수를 쉽게 계산 할 수 있다   \n",
    ">>b**a**nana=>\n",
    ">> a,an,ana,anan,anana => 총 5가지 경우로 5점을 얻음   \n",
    "ban**a**na=>\n",
    ">> a,an,ana => 총 3가지 경우로 3점을 얻음   \n",
    "banan**a**=>\n",
    ">>a => 총 1가지 경우로 1점을 얻음   \n",
    ">>>5+3+1 = 9점\n",
    "\n",
    "반대의 경우인 자음으로 시작하는 단어의 경우 점수를 얻는 stuart는 else를 사용해 \n",
    "모음이 아닐경우의 i의 값을 통해 stuart_score에 점수를 계속해서 더해준다.\n",
    "\n",
    "승패를 판단하는 것은 if, elif, else를 사용해 각 경우를 나타내 줌으로 코드를 만들었다.\n",
    "\n",
    "\n"
   ]
  },
  {
   "cell_type": "markdown",
   "id": "2dbdb285",
   "metadata": {},
   "source": [
    "# 10문제"
   ]
  },
  {
   "cell_type": "code",
   "execution_count": null,
   "id": "7ba51c4b",
   "metadata": {},
   "outputs": [],
   "source": [
    "s = input(\"s: \")\n",
    "t = input(\"t: \")\n",
    "k = int(input(\"k:\")) #min < k < max 로 비교를 해야하기 때문에 k는 int형으로 지정해준다\n",
    "\n",
    "\n",
    "def appendDelete(s, t, k):\n",
    "    check = 0\n",
    "    for i in range(0, len(s)):\n",
    "        if i == len(t) - 1:\n",
    "            check = len(t)  # 겹치는 문자열이 t만큼으로 check의 길이는 t\n",
    "            break\n",
    "        elif s[i] == t[i]:\n",
    "            check += 1  # 겹치는 문자열의 길이\n",
    "        else:\n",
    "            break\n",
    "    min = (len(s) - check) + (len(t) - check)\n",
    "    max = len(s) + len(t)\n",
    "\n",
    "    if k >= max:\n",
    "        return \"yes\"\n",
    "    elif k == min:\n",
    "        return \"yes\"\n",
    "    elif min < k < max:\n",
    "        if (k-min) % 2 == 0:  #k가 공통 부분인 check를 얼마나 건들였냐 => 짝수여야먄 yes\n",
    "            return \"yes\"\n",
    "        else:\n",
    "            return \"no\"\n",
    "    else:\n",
    "        return \"no\"\n",
    "\n",
    "str = appendDelete(s,t,k)\n",
    "print(\"{} {} {} {}\".format(s,t,k,str))\n"
   ]
  },
  {
   "cell_type": "markdown",
   "id": "75e89ab0",
   "metadata": {},
   "source": [
    "input을 통해 s,t,k를 사용자에게 입력받고 이것을 함수에 인자로 받아온다.\n",
    "s와 t의 겹치는 문자열의 길이를 check라는 변수에 저장할 예정임으로 0으로 초기화를 해 생성해둔다.\n",
    "for문을 사용해 i가 0부터 사용자에게 입력받은 s의 길이의 수 만큼 반복한다.\n",
    "이 for문 안에 if, elif, else문을 사용해 각 경우에 따라의 연산을 진행한다.\n",
    "\n",
    "먼저 if문의 경우에는 t로 입력받은 문자의 값이 s보다 작은 경우에 수행된다.\n",
    "> s: ashely , t:ash인 경우처럼 바뀌고 싶은 값이 처음 값 안에 있는 경우.\n",
    "겹치는 부분은 t의 문자 길이임으로 check는 len(t)로 지정하고 break문을 사용해 빠져나온다.\n",
    "\n",
    "그 다음 elif문의 경우에는 보통의 경우 실행된다.\n",
    "> s: hacherhappy, t:hackerrank인 경우처럼 공통 부분이 있는 경우 for문을 돌리며 s[i]==t[i]일때 마다 check에 1씩 값을 더해준다.\n",
    "이것은 s와 t의 공통 부분의 길이를 check에 더해진 값을 통해 알 수 있다.\n",
    "\n",
    "마지막 else를 통해 아무 것도 없는 경우는 break를 통해 for 문을 빠져나온다.\n",
    "\n",
    "그리고 min과 max를 설정한다.\n",
    "- min은 가장 적은 움직임으로 s를 t와 같게하는 경우의 수이다.\n",
    "> 이를 구하는 방법으로는 s와 t의 같지 않은 부분을 지우고(= s의 같지 않은 부분의 수 를 센다 = len(s) - check), \n",
    "t의 뒷 부분을 붙인다(= t의 같지 않은 부분의 수를 센다 = len(t) - check).\n",
    ">> 두 부분을 더하면 min이다.\n",
    "\n",
    "- max는 가장 많은 움직임으로 s를 t와 같게하는 경우의 수이다.\n",
    ">이를 구하는 방법으로는 s의 모든 부분을 지우고(=s의 길이만큼 = len(s)), t의 모든 부분을 쓴다(=t의 길이만큼 = len(t)).\n",
    ">> 두 부분을 더하면 max이다.\n",
    "\n",
    "yes와 no를 return하기 위해서 if문을 사용한다.\n",
    "k값이 max보다 큰 경우는 모두 yes를 리턴한다.\n",
    ">중첩해서 지울 수 있기 때문이다.\n",
    "\n",
    "k값이 min이면 yes를 리턴한다.\n",
    ">최소한의 움직임일 경우 성립하기 때문이다.\n",
    "\n",
    "k값이 min과 max값 사이일 경우에는 안에 if문을 또 사용한다.\n",
    ">if문을 사용하여 k가 공통 부분인 check를 얼마나 건들였는지를 확인한다 =>짝수여야만(=(k-min) % 2==0) yes를 return한다.\n",
    ">else의 경우 no를 return한다.\n",
    ">>지우고 쓰고 총 2번의 연산이 있어야하기 때문이다.   \n",
    ">>(k값에서 min값을 빼면 check의 부분을 건들인 값이기 때문)\n",
    "\n",
    "이 if문에서 else의 경우에는 모두 no를 return 한다.\n",
    "\n",
    "마지막 함수를 호출하기 위해 str에 함수를 쓰고 print로 값을 출력한다.\n",
    "\n"
   ]
  },
  {
   "cell_type": "code",
   "execution_count": null,
   "id": "fa6b3340",
   "metadata": {},
   "outputs": [],
   "source": []
  }
 ],
 "metadata": {
  "kernelspec": {
   "display_name": "Python 3",
   "language": "python",
   "name": "python3"
  },
  "language_info": {
   "codemirror_mode": {
    "name": "ipython",
    "version": 3
   },
   "file_extension": ".py",
   "mimetype": "text/x-python",
   "name": "python",
   "nbconvert_exporter": "python",
   "pygments_lexer": "ipython3",
   "version": "3.8.8"
  }
 },
 "nbformat": 4,
 "nbformat_minor": 5
}
